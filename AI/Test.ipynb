# Python 3
print("Hello Python 3.")
